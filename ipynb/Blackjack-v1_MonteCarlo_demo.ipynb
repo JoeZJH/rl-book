{
 "cells": [
  {
   "cell_type": "markdown",
   "id": "61179788",
   "metadata": {},
   "source": [
    "# Blackjack-v1"
   ]
  },
  {
   "cell_type": "code",
   "execution_count": 1,
   "id": "6cf9d41a",
   "metadata": {},
   "outputs": [],
   "source": [
    "%matplotlib inline\n",
    "\n",
    "import sys\n",
    "import logging\n",
    "import itertools\n",
    "\n",
    "import numpy as np\n",
    "np.random.seed(0)\n",
    "import gym\n",
    "import matplotlib.pyplot as plt\n",
    "\n",
    "logging.basicConfig(level=logging.INFO,\n",
    "        format='%(asctime)s [%(levelname)s] %(message)s',\n",
    "        stream=sys.stdout, datefmt='%H:%M:%S')"
   ]
  },
  {
   "cell_type": "markdown",
   "id": "11ea613a",
   "metadata": {},
   "source": [
    "### Use Environment"
   ]
  },
  {
   "cell_type": "code",
   "execution_count": 2,
   "id": "4bffcfc4",
   "metadata": {},
   "outputs": [
    {
     "name": "stdout",
     "output_type": "stream",
     "text": [
      "23:07:41 [INFO] env: <StepAPICompatibility<PassiveEnvChecker<BlackjackEnv<Blackjack-v1>>>>\n",
      "23:07:41 [INFO] _action_space: None\n",
      "23:07:41 [INFO] _observation_space: None\n",
      "23:07:41 [INFO] _reward_range: None\n",
      "23:07:41 [INFO] _metadata: None\n",
      "23:07:41 [INFO] new_step_api: True\n",
      "23:07:41 [INFO] _has_reset: False\n",
      "23:07:41 [INFO] _disable_render_order_enforcing: False\n",
      "23:07:41 [INFO] id: Blackjack-v1\n",
      "23:07:41 [INFO] entry_point: gym.envs.toy_text.blackjack:BlackjackEnv\n",
      "23:07:41 [INFO] reward_threshold: None\n",
      "23:07:41 [INFO] nondeterministic: False\n",
      "23:07:41 [INFO] max_episode_steps: None\n",
      "23:07:41 [INFO] order_enforce: True\n",
      "23:07:41 [INFO] autoreset: False\n",
      "23:07:41 [INFO] disable_env_checker: False\n",
      "23:07:41 [INFO] new_step_api: False\n",
      "23:07:41 [INFO] kwargs: {'sab': True, 'natural': False}\n",
      "23:07:41 [INFO] namespace: None\n",
      "23:07:41 [INFO] name: Blackjack\n",
      "23:07:41 [INFO] version: 1\n"
     ]
    }
   ],
   "source": [
    "env = gym.make('Blackjack-v1', new_step_api=True)\n",
    "for key in vars(env):\n",
    "    logging.info('%s: %s', key, vars(env)[key])\n",
    "for key in vars(env.spec):\n",
    "    logging.info('%s: %s', key, vars(env.spec)[key])"
   ]
  },
  {
   "cell_type": "markdown",
   "id": "88043c0a",
   "metadata": {},
   "source": [
    "### On-policy Monte Carlo\n",
    "\n",
    "Monte Carlo prediction"
   ]
  },
  {
   "cell_type": "code",
   "execution_count": 3,
   "id": "85eac5ef",
   "metadata": {},
   "outputs": [],
   "source": [
    "def ob2state(observation):\n",
    "    return observation[0], observation[1], int(observation[2])\n",
    "\n",
    "def evaluate_action_monte_carlo(env, policy, episode_num=500000):\n",
    "    q = np.zeros_like(policy)  # action value\n",
    "    c = np.zeros_like(policy)  # count\n",
    "    for _ in range(episode_num):\n",
    "        # play an episode\n",
    "        state_actions = []\n",
    "        observation = env.reset(return_info=False)\n",
    "        while True:\n",
    "            state = ob2state(observation)\n",
    "            action = np.random.choice(env.action_space.n, p=policy[state])\n",
    "            state_actions.append((state, action))\n",
    "            observation, reward, termination, truncation, _ = env.step(action)\n",
    "            if termination or truncation:\n",
    "                break  # end of episode\n",
    "        g = reward  # return\n",
    "        for state, action in state_actions:\n",
    "            c[state][action] += 1.\n",
    "            q[state][action] += (g - q[state][action]) / c[state][action]\n",
    "    return q"
   ]
  },
  {
   "cell_type": "code",
   "execution_count": 4,
   "id": "5aeea19a",
   "metadata": {},
   "outputs": [],
   "source": [
    "policy = np.zeros((22, 11, 2, 2))\n",
    "policy[20:, :, :, 0] = 1  # stand when >=20\n",
    "policy[:20, :, :, 1] = 1  # hit when <20\n",
    "\n",
    "q = evaluate_action_monte_carlo(env, policy)  # action value\n",
    "v = (q * policy).sum(axis=-1)  # state value"
   ]
  },
  {
   "cell_type": "code",
   "execution_count": 5,
   "id": "f76fb4bd",
   "metadata": {},
   "outputs": [
    {
     "name": "stdout",
     "output_type": "stream",
     "text": [
      "23:10:57 [INFO] observation = (14, 5, False)\n",
      "23:10:57 [INFO] player = [4, 10], dealer = [5, 1]\n",
      "23:10:57 [INFO] action = 1\n",
      "23:10:57 [INFO] observation = (23, 5, False)\n",
      "23:10:57 [INFO] reward = -1.0\n",
      "23:10:57 [INFO] termination = True\n",
      "23:10:57 [INFO] truncation = False\n",
      "23:10:57 [INFO] episode reward: -1.00\n"
     ]
    }
   ],
   "source": [
    "def play_policy(env, policy=None, verbose=False):\n",
    "    observation = env.reset(return_info=False)\n",
    "    reward, termination, truncation = 0., False, False\n",
    "    episode_reward, elapsed_steps = 0., 0\n",
    "    if verbose:\n",
    "        logging.info('observation = %s', observation)\n",
    "    while True:\n",
    "        if verbose:\n",
    "            logging.info('player = %s, dealer = %s', env.player, env.dealer)\n",
    "        if policy is None:\n",
    "            action = env.action_space.sample()\n",
    "        else:\n",
    "            state = ob2state(observation)\n",
    "            action = np.random.choice(env.action_space.n, p=policy[state])\n",
    "        if verbose:\n",
    "            logging.info('action = %s', action)\n",
    "        observation, reward, termination, truncation, _ = env.step(action)\n",
    "        if verbose:\n",
    "            logging.info('observation = %s', observation)\n",
    "            logging.info('reward = %s', reward)\n",
    "            logging.info('termination = %s', termination)\n",
    "            logging.info('truncation = %s', truncation)\n",
    "        episode_reward += reward\n",
    "        elapsed_steps += 1\n",
    "        if termination or truncation:\n",
    "            break\n",
    "    return episode_reward, elapsed_steps\n",
    "\n",
    "episode_reward, elapsed_steps = play_policy(env, verbose=True)\n",
    "logging.info(\"episode reward: %.2f\", episode_reward)"
   ]
  },
  {
   "cell_type": "code",
   "execution_count": 6,
   "id": "9f7c3b5c",
   "metadata": {},
   "outputs": [],
   "source": [
    "def plot(data):\n",
    "    fig, axes = plt.subplots(1, 2, figsize=(9, 4))\n",
    "    titles = ['without ace', 'with ace']\n",
    "    have_aces = [0, 1]\n",
    "    extent = [12, 22, 1, 11]\n",
    "    for title, have_ace, axis in zip(titles, have_aces, axes):\n",
    "        dat = data[extent[0]:extent[1], extent[2]:extent[3], have_ace].T\n",
    "        axis.imshow(dat, extent=extent, origin='lower')\n",
    "        axis.set_xlabel('player sum')\n",
    "        axis.set_ylabel('dealer showing')\n",
    "        axis.set_title(title)"
   ]
  },
  {
   "cell_type": "code",
   "execution_count": 7,
   "id": "9a164cca",
   "metadata": {},
   "outputs": [
    {
     "data": {
      "image/png": "[encoded data removed]",
      "text/plain": [
       "<Figure size 648x288 with 2 Axes>"
      ]
     },
     "metadata": {
      "needs_background": "light"
     },
     "output_type": "display_data"
    }
   ],
   "source": [
    "plot(v)"
   ]
  },
  {
   "cell_type": "markdown",
   "id": "8d40f8b9",
   "metadata": {},
   "source": [
    "Test Policy"
   ]
  },
  {
   "cell_type": "code",
   "execution_count": 8,
   "id": "d4737962",
   "metadata": {},
   "outputs": [
    {
     "name": "stdout",
     "output_type": "stream",
     "text": [
      "23:10:57 [INFO] test episode 0: reward = -1.00, steps = 4\n",
      "23:10:57 [INFO] test episode 1: reward = 1.00, steps = 2\n",
      "23:10:57 [INFO] test episode 2: reward = -1.00, steps = 2\n",
      "23:10:57 [INFO] test episode 3: reward = -1.00, steps = 1\n",
      "23:10:57 [INFO] test episode 4: reward = -1.00, steps = 2\n",
      "23:10:57 [INFO] test episode 5: reward = -1.00, steps = 2\n",
      "23:10:57 [INFO] test episode 6: reward = 1.00, steps = 1\n",
      "23:10:57 [INFO] test episode 7: reward = 1.00, steps = 2\n",
      "23:10:57 [INFO] test episode 8: reward = 0.00, steps = 2\n",
      "23:10:57 [INFO] test episode 9: reward = 1.00, steps = 2\n",
      "23:10:57 [INFO] test episode 10: reward = -1.00, steps = 2\n",
      "23:10:57 [INFO] test episode 11: reward = -1.00, steps = 2\n",
      "23:10:57 [INFO] test episode 12: reward = -1.00, steps = 1\n",
      "23:10:57 [INFO] test episode 13: reward = -1.00, steps = 4\n",
      "23:10:57 [INFO] test episode 14: reward = -1.00, steps = 1\n",
      "23:10:57 [INFO] test episode 15: reward = 1.00, steps = 3\n",
      "23:10:57 [INFO] test episode 16: reward = -1.00, steps = 1\n",
      "23:10:57 [INFO] test episode 17: reward = 1.00, steps = 1\n",
      "23:10:57 [INFO] test episode 18: reward = -1.00, steps = 4\n",
      "23:10:57 [INFO] test episode 19: reward = -1.00, steps = 1\n",
      "23:10:57 [INFO] test episode 20: reward = -1.00, steps = 2\n",
      "23:10:57 [INFO] test episode 21: reward = -1.00, steps = 1\n",
      "23:10:57 [INFO] test episode 22: reward = -1.00, steps = 1\n",
      "23:10:57 [INFO] test episode 23: reward = -1.00, steps = 4\n",
      "23:10:57 [INFO] test episode 24: reward = 1.00, steps = 2\n",
      "23:10:57 [INFO] test episode 25: reward = -1.00, steps = 2\n",
      "23:10:57 [INFO] test episode 26: reward = -1.00, steps = 1\n",
      "23:10:57 [INFO] test episode 27: reward = -1.00, steps = 1\n",
      "23:10:57 [INFO] test episode 28: reward = -1.00, steps = 3\n",
      "23:10:57 [INFO] test episode 29: reward = -1.00, steps = 1\n",
      "23:10:57 [INFO] test episode 30: reward = -1.00, steps = 1\n",
      "23:10:57 [INFO] test episode 31: reward = 1.00, steps = 3\n",
      "23:10:57 [INFO] test episode 32: reward = -1.00, steps = 2\n",
      "23:10:57 [INFO] test episode 33: reward = 1.00, steps = 4\n",
      "23:10:57 [INFO] test episode 34: reward = -1.00, steps = 2\n",
      "23:10:57 [INFO] test episode 35: reward = 1.00, steps = 1\n",
      "23:10:57 [INFO] test episode 36: reward = -1.00, steps = 4\n",
      "23:10:57 [INFO] test episode 37: reward = -1.00, steps = 2\n",
      "23:10:57 [INFO] test episode 38: reward = -1.00, steps = 2\n",
      "23:10:57 [INFO] test episode 39: reward = -1.00, steps = 1\n",
      "23:10:57 [INFO] test episode 40: reward = -1.00, steps = 2\n",
      "23:10:57 [INFO] test episode 41: reward = -1.00, steps = 1\n",
      "23:10:57 [INFO] test episode 42: reward = -1.00, steps = 2\n",
      "23:10:57 [INFO] test episode 43: reward = -1.00, steps = 1\n",
      "23:10:57 [INFO] test episode 44: reward = -1.00, steps = 2\n",
      "23:10:57 [INFO] test episode 45: reward = 1.00, steps = 1\n",
      "23:10:57 [INFO] test episode 46: reward = -1.00, steps = 3\n",
      "23:10:57 [INFO] test episode 47: reward = -1.00, steps = 1\n",
      "23:10:57 [INFO] test episode 48: reward = -1.00, steps = 2\n",
      "23:10:57 [INFO] test episode 49: reward = 0.00, steps = 3\n",
      "23:10:57 [INFO] test episode 50: reward = -1.00, steps = 1\n",
      "23:10:57 [INFO] test episode 51: reward = 1.00, steps = 1\n",
      "23:10:57 [INFO] test episode 52: reward = -1.00, steps = 2\n",
      "23:10:57 [INFO] test episode 53: reward = -1.00, steps = 2\n",
      "23:10:57 [INFO] test episode 54: reward = -1.00, steps = 3\n",
      "23:10:57 [INFO] test episode 55: reward = 1.00, steps = 3\n",
      "23:10:57 [INFO] test episode 56: reward = 1.00, steps = 2\n",
      "23:10:57 [INFO] test episode 57: reward = 1.00, steps = 3\n",
      "23:10:57 [INFO] test episode 58: reward = -1.00, steps = 2\n",
      "23:10:57 [INFO] test episode 59: reward = -1.00, steps = 1\n",
      "23:10:57 [INFO] test episode 60: reward = -1.00, steps = 1\n",
      "23:10:57 [INFO] test episode 61: reward = 1.00, steps = 1\n",
      "23:10:57 [INFO] test episode 62: reward = 1.00, steps = 2\n",
      "23:10:57 [INFO] test episode 63: reward = -1.00, steps = 1\n",
      "23:10:57 [INFO] test episode 64: reward = 1.00, steps = 3\n",
      "23:10:57 [INFO] test episode 65: reward = -1.00, steps = 2\n",
      "23:10:57 [INFO] test episode 66: reward = 1.00, steps = 2\n",
      "23:10:57 [INFO] test episode 67: reward = 1.00, steps = 1\n",
      "23:10:57 [INFO] test episode 68: reward = -1.00, steps = 2\n",
      "23:10:57 [INFO] test episode 69: reward = 1.00, steps = 3\n",
      "23:10:57 [INFO] test episode 70: reward = -1.00, steps = 3\n",
      "23:10:57 [INFO] test episode 71: reward = -1.00, steps = 1\n",
      "23:10:57 [INFO] test episode 72: reward = 1.00, steps = 5\n",
      "23:10:57 [INFO] test episode 73: reward = -1.00, steps = 1\n",
      "23:10:57 [INFO] test episode 74: reward = -1.00, steps = 2\n",
      "23:10:57 [INFO] test episode 75: reward = -1.00, steps = 1\n",
      "23:10:57 [INFO] test episode 76: reward = 0.00, steps = 2\n",
      "23:10:57 [INFO] test episode 77: reward = -1.00, steps = 1\n",
      "23:10:57 [INFO] test episode 78: reward = -1.00, steps = 1\n",
      "23:10:57 [INFO] test episode 79: reward = -1.00, steps = 1\n",
      "23:10:57 [INFO] test episode 80: reward = -1.00, steps = 1\n",
      "23:10:57 [INFO] test episode 81: reward = -1.00, steps = 2\n",
      "23:10:57 [INFO] test episode 82: reward = 0.00, steps = 2\n",
      "23:10:57 [INFO] test episode 83: reward = -1.00, steps = 1\n",
      "23:10:57 [INFO] test episode 84: reward = -1.00, steps = 3\n",
      "23:10:57 [INFO] test episode 85: reward = 1.00, steps = 1\n",
      "23:10:57 [INFO] test episode 86: reward = -1.00, steps = 1\n",
      "23:10:57 [INFO] test episode 87: reward = -1.00, steps = 2\n",
      "23:10:57 [INFO] test episode 88: reward = 1.00, steps = 2\n",
      "23:10:57 [INFO] test episode 89: reward = -1.00, steps = 2\n",
      "23:10:57 [INFO] test episode 90: reward = -1.00, steps = 2\n",
      "23:10:57 [INFO] test episode 91: reward = 1.00, steps = 1\n",
      "23:10:57 [INFO] test episode 92: reward = 1.00, steps = 1\n",
      "23:10:57 [INFO] test episode 93: reward = -1.00, steps = 2\n",
      "23:10:57 [INFO] test episode 94: reward = -1.00, steps = 3\n",
      "23:10:57 [INFO] test episode 95: reward = 0.00, steps = 1\n",
      "23:10:57 [INFO] test episode 96: reward = -1.00, steps = 1\n",
      "23:10:57 [INFO] test episode 97: reward = -1.00, steps = 2\n",
      "23:10:57 [INFO] test episode 98: reward = -1.00, steps = 2\n",
      "23:10:57 [INFO] test episode 99: reward = -1.00, steps = 1\n",
      "23:10:57 [INFO] average episode reward = -0.43 ± 0.87\n"
     ]
    }
   ],
   "source": [
    "episode_rewards = []\n",
    "for episode in range(100):\n",
    "    episode_reward, elapsed_steps = play_policy(env, policy)\n",
    "    episode_rewards.append(episode_reward)\n",
    "    logging.info('test episode %d: reward = %.2f, steps = %d',\n",
    "            episode, episode_reward, elapsed_steps)\n",
    "logging.info('average episode reward = %.2f ± %.2f',\n",
    "        np.mean(episode_rewards), np.std(episode_rewards))"
   ]
  },
  {
   "cell_type": "code",
   "execution_count": 9,
   "id": "05ad8522",
   "metadata": {},
   "outputs": [
    {
     "name": "stdout",
     "output_type": "stream",
     "text": [
      "23:10:57 [INFO] observation = (15, 10, False)\n",
      "23:10:57 [INFO] state = (15, 10, 0)\n",
      "23:10:57 [INFO] probs = [0. 1.]\n"
     ]
    }
   ],
   "source": [
    "observation = env.reset(return_info=False)\n",
    "logging.info(\"observation = %s\", observation)\n",
    "state = ob2state(observation)\n",
    "logging.info(\"state = %s\", state)\n",
    "probs = policy[state]\n",
    "logging.info(\"probs = %s\", probs)"
   ]
  },
  {
   "cell_type": "markdown",
   "id": "8a59aac1",
   "metadata": {},
   "source": [
    "#### Monte Carlo update with exploring start"
   ]
  },
  {
   "cell_type": "code",
   "execution_count": 10,
   "id": "e60988ca",
   "metadata": {},
   "outputs": [],
   "source": [
    "def monte_carlo_with_exploring_start(env, episode_num=500000):\n",
    "    policy = np.zeros((22, 11, 2, 2))\n",
    "    policy[:, :, :, 1] = 1.\n",
    "    q = np.zeros_like(policy)  # action values\n",
    "    c = np.zeros_like(policy)  # counts\n",
    "    for _ in range(episode_num):\n",
    "        # choose initial state randomly\n",
    "        state = (np.random.randint(12, 22),\n",
    "                 np.random.randint(1, 11),\n",
    "                 np.random.randint(2))\n",
    "        action = np.random.randint(2)\n",
    "        # play an episode\n",
    "        env.reset()\n",
    "        if state[2]: # has ace\n",
    "            env.unwrapped.player = [1, state[0] - 11]\n",
    "        else: # no ace\n",
    "            if state[0] == 21:\n",
    "                env.unwrapped.player = [10, 9, 2]\n",
    "            else:\n",
    "                env.unwrapped.player = [10, state[0] - 10]\n",
    "        env.unwrapped.dealer[0] = state[1]\n",
    "        state_actions = []\n",
    "        while True:\n",
    "            state_actions.append((state, action))\n",
    "            observation, reward, termination, truncation, _ = env.step(action)\n",
    "            if termination or truncation:\n",
    "                break  # end of episode\n",
    "            state = ob2state(observation)\n",
    "            action = np.random.choice(env.action_space.n, p=policy[state])\n",
    "        g = reward  # return\n",
    "        for state, action in state_actions:\n",
    "            c[state][action] += 1.\n",
    "            q[state][action] += (g - q[state][action]) / c[state][action]\n",
    "            a = q[state].argmax()\n",
    "            policy[state] = 0.\n",
    "            policy[state][a] = 1.\n",
    "    return policy, q"
   ]
  },
  {
   "cell_type": "code",
   "execution_count": 11,
   "id": "0474d592",
   "metadata": {},
   "outputs": [],
   "source": [
    "policy, q = monte_carlo_with_exploring_start(env)\n",
    "v = q.max(axis=-1)"
   ]
  },
  {
   "cell_type": "code",
   "execution_count": 12,
   "id": "1ee69161",
   "metadata": {},
   "outputs": [
    {
     "data": {
      "image/png": "[encoded data removed]",
      "text/plain": [
       "<Figure size 648x288 with 2 Axes>"
      ]
     },
     "metadata": {
      "needs_background": "light"
     },
     "output_type": "display_data"
    },
    {
     "data": {
      "image/png": "[encoded data removed]",
      "text/plain": [
       "<Figure size 648x288 with 2 Axes>"
      ]
     },
     "metadata": {
      "needs_background": "light"
     },
     "output_type": "display_data"
    }
   ],
   "source": [
    "plot(policy.argmax(-1))\n",
    "plot(v)"
   ]
  },
  {
   "cell_type": "markdown",
   "id": "0cf401b1",
   "metadata": {},
   "source": [
    "Monte Carlo update with soft poicy"
   ]
  },
  {
   "cell_type": "code",
   "execution_count": 13,
   "id": "f51843ea",
   "metadata": {},
   "outputs": [],
   "source": [
    "def monte_carlo_with_soft(env, episode_num=500000, epsilon=0.1):\n",
    "    policy = np.ones((22, 11, 2, 2)) * 0.5  # soft policy\n",
    "    q = np.zeros_like(policy)  # action values\n",
    "    c = np.zeros_like(policy)  # counts\n",
    "    for _ in range(episode_num):\n",
    "        # play an episode\n",
    "        state_actions = []\n",
    "        observation = env.reset(return_info=False)\n",
    "        while True:\n",
    "            state = ob2state(observation)\n",
    "            action = np.random.choice(env.action_space.n, p=policy[state])\n",
    "            state_actions.append((state, action))\n",
    "            observation, reward, termination, truncation, _ = env.step(action)\n",
    "            if termination or truncation:\n",
    "                break  # end of episode\n",
    "        g = reward  # return\n",
    "        for state, action in state_actions:\n",
    "            c[state][action] += 1.\n",
    "            q[state][action] += (g - q[state][action]) / c[state][action]\n",
    "            # soft update\n",
    "            a = q[state].argmax()\n",
    "            policy[state] = epsilon / 2.\n",
    "            policy[state][a] += (1. - epsilon)\n",
    "    return policy, q"
   ]
  },
  {
   "cell_type": "code",
   "execution_count": 14,
   "id": "ca047ee5",
   "metadata": {},
   "outputs": [],
   "source": [
    "policy, q = monte_carlo_with_soft(env)\n",
    "v = q.max(axis=-1)"
   ]
  },
  {
   "cell_type": "code",
   "execution_count": 15,
   "id": "2ecf92af",
   "metadata": {
    "scrolled": true
   },
   "outputs": [
    {
     "data": {
      "image/png": "[encoded data removed]",
      "text/plain": [
       "<Figure size 648x288 with 2 Axes>"
      ]
     },
     "metadata": {
      "needs_background": "light"
     },
     "output_type": "display_data"
    },
    {
     "data": {
      "image/png": "[encoded data removed]",
      "text/plain": [
       "<Figure size 648x288 with 2 Axes>"
      ]
     },
     "metadata": {
      "needs_background": "light"
     },
     "output_type": "display_data"
    }
   ],
   "source": [
    "plot(policy.argmax(-1))\n",
    "plot(v)"
   ]
  },
  {
   "cell_type": "markdown",
   "id": "6202ed8f",
   "metadata": {},
   "source": [
    "Test Policy"
   ]
  },
  {
   "cell_type": "code",
   "execution_count": 16,
   "id": "05bc6d72",
   "metadata": {},
   "outputs": [
    {
     "name": "stdout",
     "output_type": "stream",
     "text": [
      "23:16:55 [INFO] test episode 0: reward = -1.00, steps = 2\n",
      "23:16:55 [INFO] test episode 1: reward = -1.00, steps = 1\n",
      "23:16:55 [INFO] test episode 2: reward = -1.00, steps = 1\n",
      "23:16:55 [INFO] test episode 3: reward = -1.00, steps = 1\n",
      "23:16:55 [INFO] test episode 4: reward = 1.00, steps = 2\n",
      "23:16:55 [INFO] test episode 5: reward = 1.00, steps = 2\n",
      "23:16:55 [INFO] test episode 6: reward = 1.00, steps = 3\n",
      "23:16:55 [INFO] test episode 7: reward = 1.00, steps = 1\n",
      "23:16:55 [INFO] test episode 8: reward = -1.00, steps = 1\n",
      "23:16:55 [INFO] test episode 9: reward = 1.00, steps = 1\n",
      "23:16:55 [INFO] test episode 10: reward = 1.00, steps = 2\n",
      "23:16:55 [INFO] test episode 11: reward = 0.00, steps = 1\n",
      "23:16:55 [INFO] test episode 12: reward = 1.00, steps = 1\n",
      "23:16:55 [INFO] test episode 13: reward = -1.00, steps = 1\n",
      "23:16:55 [INFO] test episode 14: reward = 1.00, steps = 2\n",
      "23:16:55 [INFO] test episode 15: reward = -1.00, steps = 1\n",
      "23:16:55 [INFO] test episode 16: reward = -1.00, steps = 1\n",
      "23:16:55 [INFO] test episode 17: reward = -1.00, steps = 2\n",
      "23:16:55 [INFO] test episode 18: reward = -1.00, steps = 1\n",
      "23:16:55 [INFO] test episode 19: reward = -1.00, steps = 1\n",
      "23:16:55 [INFO] test episode 20: reward = 0.00, steps = 1\n",
      "23:16:55 [INFO] test episode 21: reward = 1.00, steps = 1\n",
      "23:16:55 [INFO] test episode 22: reward = -1.00, steps = 2\n",
      "23:16:55 [INFO] test episode 23: reward = 1.00, steps = 3\n",
      "23:16:55 [INFO] test episode 24: reward = -1.00, steps = 1\n",
      "23:16:55 [INFO] test episode 25: reward = 1.00, steps = 1\n",
      "23:16:55 [INFO] test episode 26: reward = 1.00, steps = 1\n",
      "23:16:55 [INFO] test episode 27: reward = -1.00, steps = 2\n",
      "23:16:55 [INFO] test episode 28: reward = -1.00, steps = 3\n",
      "23:16:55 [INFO] test episode 29: reward = -1.00, steps = 1\n",
      "23:16:55 [INFO] test episode 30: reward = -1.00, steps = 1\n",
      "23:16:55 [INFO] test episode 31: reward = -1.00, steps = 1\n",
      "23:16:55 [INFO] test episode 32: reward = 1.00, steps = 2\n",
      "23:16:55 [INFO] test episode 33: reward = 1.00, steps = 2\n",
      "23:16:55 [INFO] test episode 34: reward = -1.00, steps = 1\n",
      "23:16:55 [INFO] test episode 35: reward = 0.00, steps = 2\n",
      "23:16:55 [INFO] test episode 36: reward = 1.00, steps = 2\n",
      "23:16:55 [INFO] test episode 37: reward = -1.00, steps = 1\n",
      "23:16:55 [INFO] test episode 38: reward = 1.00, steps = 2\n",
      "23:16:55 [INFO] test episode 39: reward = 0.00, steps = 1\n",
      "23:16:55 [INFO] test episode 40: reward = 1.00, steps = 2\n",
      "23:16:55 [INFO] test episode 41: reward = 1.00, steps = 2\n",
      "23:16:55 [INFO] test episode 42: reward = 0.00, steps = 1\n",
      "23:16:55 [INFO] test episode 43: reward = 1.00, steps = 1\n",
      "23:16:55 [INFO] test episode 44: reward = 0.00, steps = 1\n",
      "23:16:55 [INFO] test episode 45: reward = 1.00, steps = 1\n",
      "23:16:55 [INFO] test episode 46: reward = -1.00, steps = 1\n",
      "23:16:55 [INFO] test episode 47: reward = -1.00, steps = 2\n",
      "23:16:55 [INFO] test episode 48: reward = 1.00, steps = 1\n",
      "23:16:55 [INFO] test episode 49: reward = -1.00, steps = 2\n",
      "23:16:55 [INFO] test episode 50: reward = -1.00, steps = 2\n",
      "23:16:56 [INFO] test episode 51: reward = 0.00, steps = 2\n",
      "23:16:56 [INFO] test episode 52: reward = -1.00, steps = 1\n",
      "23:16:56 [INFO] test episode 53: reward = -1.00, steps = 3\n",
      "23:16:56 [INFO] test episode 54: reward = -1.00, steps = 3\n",
      "23:16:56 [INFO] test episode 55: reward = -1.00, steps = 3\n",
      "23:16:56 [INFO] test episode 56: reward = -1.00, steps = 1\n",
      "23:16:56 [INFO] test episode 57: reward = 1.00, steps = 2\n",
      "23:16:56 [INFO] test episode 58: reward = -1.00, steps = 1\n",
      "23:16:56 [INFO] test episode 59: reward = -1.00, steps = 1\n",
      "23:16:56 [INFO] test episode 60: reward = 1.00, steps = 1\n",
      "23:16:56 [INFO] test episode 61: reward = -1.00, steps = 5\n",
      "23:16:56 [INFO] test episode 62: reward = -1.00, steps = 1\n",
      "23:16:56 [INFO] test episode 63: reward = -1.00, steps = 1\n",
      "23:16:56 [INFO] test episode 64: reward = -1.00, steps = 1\n",
      "23:16:56 [INFO] test episode 65: reward = 1.00, steps = 1\n",
      "23:16:56 [INFO] test episode 66: reward = 1.00, steps = 1\n",
      "23:16:56 [INFO] test episode 67: reward = -1.00, steps = 1\n",
      "23:16:56 [INFO] test episode 68: reward = -1.00, steps = 2\n",
      "23:16:56 [INFO] test episode 69: reward = -1.00, steps = 3\n",
      "23:16:56 [INFO] test episode 70: reward = 1.00, steps = 2\n",
      "23:16:56 [INFO] test episode 71: reward = -1.00, steps = 1\n",
      "23:16:56 [INFO] test episode 72: reward = 1.00, steps = 2\n",
      "23:16:56 [INFO] test episode 73: reward = -1.00, steps = 1\n",
      "23:16:56 [INFO] test episode 74: reward = 1.00, steps = 1\n",
      "23:16:56 [INFO] test episode 75: reward = 1.00, steps = 1\n",
      "23:16:56 [INFO] test episode 76: reward = -1.00, steps = 1\n",
      "23:16:56 [INFO] test episode 77: reward = -1.00, steps = 1\n",
      "23:16:56 [INFO] test episode 78: reward = -1.00, steps = 1\n",
      "23:16:56 [INFO] test episode 79: reward = -1.00, steps = 1\n",
      "23:16:56 [INFO] test episode 80: reward = 1.00, steps = 2\n",
      "23:16:56 [INFO] test episode 81: reward = -1.00, steps = 1\n",
      "23:16:56 [INFO] test episode 82: reward = -1.00, steps = 1\n",
      "23:16:56 [INFO] test episode 83: reward = -1.00, steps = 1\n",
      "23:16:56 [INFO] test episode 84: reward = -1.00, steps = 1\n",
      "23:16:56 [INFO] test episode 85: reward = 1.00, steps = 2\n",
      "23:16:56 [INFO] test episode 86: reward = -1.00, steps = 1\n",
      "23:16:56 [INFO] test episode 87: reward = 0.00, steps = 1\n",
      "23:16:56 [INFO] test episode 88: reward = 1.00, steps = 1\n",
      "23:16:56 [INFO] test episode 89: reward = -1.00, steps = 2\n",
      "23:16:56 [INFO] test episode 90: reward = -1.00, steps = 2\n",
      "23:16:56 [INFO] test episode 91: reward = -1.00, steps = 2\n",
      "23:16:56 [INFO] test episode 92: reward = 1.00, steps = 2\n",
      "23:16:56 [INFO] test episode 93: reward = 1.00, steps = 3\n",
      "23:16:56 [INFO] test episode 94: reward = 1.00, steps = 1\n",
      "23:16:56 [INFO] test episode 95: reward = -1.00, steps = 2\n",
      "23:16:56 [INFO] test episode 96: reward = 0.00, steps = 1\n",
      "23:16:56 [INFO] test episode 97: reward = 1.00, steps = 2\n",
      "23:16:56 [INFO] test episode 98: reward = 1.00, steps = 1\n",
      "23:16:56 [INFO] test episode 99: reward = 1.00, steps = 1\n",
      "23:16:56 [INFO] average episode reward = -0.15 ± 0.94\n"
     ]
    }
   ],
   "source": [
    "episode_rewards = []\n",
    "for episode in range(100):\n",
    "    episode_reward, elapsed_steps = play_policy(env, policy)\n",
    "    episode_rewards.append(episode_reward)\n",
    "    logging.info('test episode %d: reward = %.2f, steps = %d',\n",
    "            episode, episode_reward, elapsed_steps)\n",
    "logging.info('average episode reward = %.2f ± %.2f',\n",
    "        np.mean(episode_rewards), np.std(episode_rewards))"
   ]
  },
  {
   "cell_type": "markdown",
   "id": "fcd40938",
   "metadata": {
    "collapsed": true
   },
   "source": [
    "### Off-Policy Monte Carlo Update\n",
    "\n",
    "Monte Carlo evaluation with importance sampling"
   ]
  },
  {
   "cell_type": "code",
   "execution_count": 17,
   "id": "557734b7",
   "metadata": {},
   "outputs": [],
   "source": [
    "def evaluate_monte_carlo_importance_sample(env, policy, behavior_policy,\n",
    "        episode_num=500000):\n",
    "    q = np.zeros_like(policy)\n",
    "    c = np.zeros_like(policy)\n",
    "    for _ in range(episode_num):\n",
    "        # play episode using behavior policy\n",
    "        state_actions = []\n",
    "        observation = env.reset(return_info=False)\n",
    "        while True:\n",
    "            state = ob2state(observation)\n",
    "            action = np.random.choice(env.action_space.n,\n",
    "                    p=behavior_policy[state])\n",
    "            state_actions.append((state, action))\n",
    "            observation, reward, termination, truncation, _ = env.step(action)\n",
    "            if termination or truncation:\n",
    "                break  # finish the episode\n",
    "        g = reward  # return\n",
    "        rho = 1.  # importance sampling ratio\n",
    "        for state, action in reversed(state_actions):\n",
    "            c[state][action] += rho\n",
    "            q[state][action] += (rho / c[state][action] * (g - q[state][action]))\n",
    "            rho *= (policy[state][action] / behavior_policy[state][action])\n",
    "            if rho == 0:\n",
    "                break  # early stop\n",
    "    return q"
   ]
  },
  {
   "cell_type": "code",
   "execution_count": 18,
   "id": "6bd9226a",
   "metadata": {},
   "outputs": [],
   "source": [
    "policy = np.zeros((22, 11, 2, 2))\n",
    "policy[20:, :, :, 0] = 1  # stand when >=20\n",
    "policy[:20, :, :, 1] = 1  # hit when <20\n",
    "behavior_policy = np.ones_like(policy) * 0.5\n",
    "q = evaluate_monte_carlo_importance_sample(env, policy, behavior_policy)\n",
    "v = (q * policy).sum(axis=-1)"
   ]
  },
  {
   "cell_type": "code",
   "execution_count": 19,
   "id": "6e5a3e84",
   "metadata": {},
   "outputs": [
    {
     "data": {
      "image/png": "[encoded data removed]",
      "text/plain": [
       "<Figure size 648x288 with 2 Axes>"
      ]
     },
     "metadata": {
      "needs_background": "light"
     },
     "output_type": "display_data"
    }
   ],
   "source": [
    "plot(v)"
   ]
  },
  {
   "cell_type": "markdown",
   "id": "d21be04f",
   "metadata": {},
   "source": [
    "Monte Carlo update with importance sampling"
   ]
  },
  {
   "cell_type": "code",
   "execution_count": 20,
   "id": "d2ed9bc2",
   "metadata": {},
   "outputs": [],
   "source": [
    "def monte_carlo_importance_sample(env, episode_num=500000):\n",
    "    policy = np.zeros((22, 11, 2, 2))\n",
    "    policy[:, :, :, 0] = 1.\n",
    "    behavior_policy = np.ones_like(policy) * 0.5 # soft policy\n",
    "    q = np.zeros_like(policy)\n",
    "    c = np.zeros_like(policy)\n",
    "    for _ in range(episode_num):\n",
    "        # play using behavior policy\n",
    "        state_actions = []\n",
    "        observation = env.reset(return_info=False)\n",
    "        while True:\n",
    "            state = ob2state(observation)\n",
    "            action = np.random.choice(env.action_space.n,\n",
    "                    p=behavior_policy[state])\n",
    "            state_actions.append((state, action))\n",
    "            observation, reward, termination, truncation, _ = env.step(action)\n",
    "            if termination or truncation:\n",
    "                break  # finish the episode\n",
    "        g = reward  # return\n",
    "        rho = 1.  # importance sampling ratio\n",
    "        for state, action in reversed(state_actions):\n",
    "            c[state][action] += rho\n",
    "            q[state][action] += (rho / c[state][action] * (g - q[state][action]))\n",
    "            # improve the policy\n",
    "            a = q[state].argmax()\n",
    "            policy[state] = 0.\n",
    "            policy[state][a] = 1.\n",
    "            if a != action:  # early stop\n",
    "                break\n",
    "            rho /= behavior_policy[state][action]\n",
    "    return policy, q"
   ]
  },
  {
   "cell_type": "code",
   "execution_count": 21,
   "id": "cc0fe48e",
   "metadata": {},
   "outputs": [],
   "source": [
    "policy, q = monte_carlo_importance_sample(env)\n",
    "v = q.max(axis=-1)"
   ]
  },
  {
   "cell_type": "code",
   "execution_count": 22,
   "id": "5646ed20",
   "metadata": {
    "scrolled": true
   },
   "outputs": [
    {
     "data": {
      "image/png": "[encoded data removed]",
      "text/plain": [
       "<Figure size 648x288 with 2 Axes>"
      ]
     },
     "metadata": {
      "needs_background": "light"
     },
     "output_type": "display_data"
    },
    {
     "data": {
      "image/png": "[encoded data removed]",
      "text/plain": [
       "<Figure size 648x288 with 2 Axes>"
      ]
     },
     "metadata": {
      "needs_background": "light"
     },
     "output_type": "display_data"
    }
   ],
   "source": [
    "plot(policy.argmax(-1))\n",
    "plot(v)"
   ]
  },
  {
   "cell_type": "markdown",
   "id": "fa01c42f",
   "metadata": {},
   "source": [
    "Test Policy"
   ]
  },
  {
   "cell_type": "code",
   "execution_count": 23,
   "id": "a786ad68",
   "metadata": {},
   "outputs": [
    {
     "name": "stdout",
     "output_type": "stream",
     "text": [
      "23:23:20 [INFO] test episode 0: reward = -1.00, steps = 1\n",
      "23:23:20 [INFO] test episode 1: reward = 1.00, steps = 2\n",
      "23:23:20 [INFO] test episode 2: reward = -1.00, steps = 2\n",
      "23:23:20 [INFO] test episode 3: reward = 1.00, steps = 2\n",
      "23:23:20 [INFO] test episode 4: reward = -1.00, steps = 2\n",
      "23:23:20 [INFO] test episode 5: reward = 1.00, steps = 1\n",
      "23:23:20 [INFO] test episode 6: reward = -1.00, steps = 2\n",
      "23:23:20 [INFO] test episode 7: reward = 0.00, steps = 2\n",
      "23:23:20 [INFO] test episode 8: reward = 1.00, steps = 2\n",
      "23:23:20 [INFO] test episode 9: reward = 1.00, steps = 2\n",
      "23:23:20 [INFO] test episode 10: reward = -1.00, steps = 1\n",
      "23:23:20 [INFO] test episode 11: reward = -1.00, steps = 2\n",
      "23:23:20 [INFO] test episode 12: reward = -1.00, steps = 2\n",
      "23:23:20 [INFO] test episode 13: reward = 1.00, steps = 1\n",
      "23:23:20 [INFO] test episode 14: reward = 1.00, steps = 1\n",
      "23:23:20 [INFO] test episode 15: reward = -1.00, steps = 1\n",
      "23:23:20 [INFO] test episode 16: reward = 1.00, steps = 1\n",
      "23:23:20 [INFO] test episode 17: reward = 1.00, steps = 1\n",
      "23:23:20 [INFO] test episode 18: reward = 1.00, steps = 2\n",
      "23:23:20 [INFO] test episode 19: reward = -1.00, steps = 1\n",
      "23:23:20 [INFO] test episode 20: reward = -1.00, steps = 1\n",
      "23:23:20 [INFO] test episode 21: reward = 1.00, steps = 1\n",
      "23:23:20 [INFO] test episode 22: reward = -1.00, steps = 1\n",
      "23:23:20 [INFO] test episode 23: reward = -1.00, steps = 3\n",
      "23:23:20 [INFO] test episode 24: reward = 1.00, steps = 2\n",
      "23:23:20 [INFO] test episode 25: reward = 0.00, steps = 2\n",
      "23:23:20 [INFO] test episode 26: reward = 1.00, steps = 3\n",
      "23:23:20 [INFO] test episode 27: reward = -1.00, steps = 2\n",
      "23:23:20 [INFO] test episode 28: reward = -1.00, steps = 1\n",
      "23:23:20 [INFO] test episode 29: reward = -1.00, steps = 1\n",
      "23:23:20 [INFO] test episode 30: reward = -1.00, steps = 2\n",
      "23:23:20 [INFO] test episode 31: reward = -1.00, steps = 1\n",
      "23:23:20 [INFO] test episode 32: reward = 1.00, steps = 1\n",
      "23:23:20 [INFO] test episode 33: reward = 1.00, steps = 2\n",
      "23:23:20 [INFO] test episode 34: reward = -1.00, steps = 2\n",
      "23:23:20 [INFO] test episode 35: reward = -1.00, steps = 2\n",
      "23:23:20 [INFO] test episode 36: reward = 1.00, steps = 2\n",
      "23:23:20 [INFO] test episode 37: reward = -1.00, steps = 1\n",
      "23:23:20 [INFO] test episode 38: reward = -1.00, steps = 2\n",
      "23:23:20 [INFO] test episode 39: reward = 0.00, steps = 3\n",
      "23:23:20 [INFO] test episode 40: reward = -1.00, steps = 1\n",
      "23:23:20 [INFO] test episode 41: reward = -1.00, steps = 2\n",
      "23:23:20 [INFO] test episode 42: reward = 1.00, steps = 1\n",
      "23:23:20 [INFO] test episode 43: reward = 1.00, steps = 1\n",
      "23:23:20 [INFO] test episode 44: reward = -1.00, steps = 1\n",
      "23:23:20 [INFO] test episode 45: reward = -1.00, steps = 1\n",
      "23:23:20 [INFO] test episode 46: reward = -1.00, steps = 2\n",
      "23:23:20 [INFO] test episode 47: reward = 1.00, steps = 2\n",
      "23:23:20 [INFO] test episode 48: reward = 1.00, steps = 1\n",
      "23:23:20 [INFO] test episode 49: reward = 1.00, steps = 2\n",
      "23:23:20 [INFO] test episode 50: reward = -1.00, steps = 1\n",
      "23:23:20 [INFO] test episode 51: reward = -1.00, steps = 1\n",
      "23:23:20 [INFO] test episode 52: reward = 1.00, steps = 1\n",
      "23:23:20 [INFO] test episode 53: reward = 1.00, steps = 1\n",
      "23:23:20 [INFO] test episode 54: reward = -1.00, steps = 2\n",
      "23:23:20 [INFO] test episode 55: reward = -1.00, steps = 1\n",
      "23:23:20 [INFO] test episode 56: reward = -1.00, steps = 1\n",
      "23:23:20 [INFO] test episode 57: reward = -1.00, steps = 2\n",
      "23:23:20 [INFO] test episode 58: reward = -1.00, steps = 1\n",
      "23:23:20 [INFO] test episode 59: reward = -1.00, steps = 2\n",
      "23:23:20 [INFO] test episode 60: reward = 1.00, steps = 1\n",
      "23:23:20 [INFO] test episode 61: reward = 1.00, steps = 2\n",
      "23:23:20 [INFO] test episode 62: reward = 1.00, steps = 1\n",
      "23:23:20 [INFO] test episode 63: reward = 1.00, steps = 1\n",
      "23:23:20 [INFO] test episode 64: reward = -1.00, steps = 2\n",
      "23:23:20 [INFO] test episode 65: reward = 1.00, steps = 2\n",
      "23:23:20 [INFO] test episode 66: reward = 0.00, steps = 1\n",
      "23:23:20 [INFO] test episode 67: reward = -1.00, steps = 2\n",
      "23:23:20 [INFO] test episode 68: reward = 1.00, steps = 2\n",
      "23:23:20 [INFO] test episode 69: reward = 1.00, steps = 1\n",
      "23:23:20 [INFO] test episode 70: reward = 1.00, steps = 3\n",
      "23:23:20 [INFO] test episode 71: reward = -1.00, steps = 1\n",
      "23:23:20 [INFO] test episode 72: reward = -1.00, steps = 1\n",
      "23:23:20 [INFO] test episode 73: reward = -1.00, steps = 1\n",
      "23:23:20 [INFO] test episode 74: reward = 0.00, steps = 3\n",
      "23:23:20 [INFO] test episode 75: reward = 1.00, steps = 2\n",
      "23:23:20 [INFO] test episode 76: reward = 1.00, steps = 2\n",
      "23:23:20 [INFO] test episode 77: reward = 1.00, steps = 1\n",
      "23:23:20 [INFO] test episode 78: reward = 1.00, steps = 1\n",
      "23:23:20 [INFO] test episode 79: reward = 1.00, steps = 1\n",
      "23:23:20 [INFO] test episode 80: reward = 0.00, steps = 2\n",
      "23:23:20 [INFO] test episode 81: reward = 0.00, steps = 3\n",
      "23:23:20 [INFO] test episode 82: reward = 0.00, steps = 3\n",
      "23:23:20 [INFO] test episode 83: reward = -1.00, steps = 2\n",
      "23:23:20 [INFO] test episode 84: reward = 1.00, steps = 1\n",
      "23:23:20 [INFO] test episode 85: reward = 0.00, steps = 2\n",
      "23:23:20 [INFO] test episode 86: reward = -1.00, steps = 2\n",
      "23:23:20 [INFO] test episode 87: reward = 1.00, steps = 2\n",
      "23:23:20 [INFO] test episode 88: reward = -1.00, steps = 2\n",
      "23:23:20 [INFO] test episode 89: reward = -1.00, steps = 2\n",
      "23:23:20 [INFO] test episode 90: reward = 1.00, steps = 1\n",
      "23:23:20 [INFO] test episode 91: reward = 0.00, steps = 2\n",
      "23:23:20 [INFO] test episode 92: reward = 0.00, steps = 2\n",
      "23:23:20 [INFO] test episode 93: reward = 1.00, steps = 3\n",
      "23:23:20 [INFO] test episode 94: reward = 1.00, steps = 2\n",
      "23:23:20 [INFO] test episode 95: reward = -1.00, steps = 2\n",
      "23:23:20 [INFO] test episode 96: reward = -1.00, steps = 1\n",
      "23:23:20 [INFO] test episode 97: reward = 1.00, steps = 1\n",
      "23:23:20 [INFO] test episode 98: reward = 1.00, steps = 1\n",
      "23:23:20 [INFO] test episode 99: reward = -1.00, steps = 2\n",
      "23:23:20 [INFO] average episode reward = -0.03 ± 0.94\n"
     ]
    }
   ],
   "source": [
    "episode_rewards = []\n",
    "for episode in range(100):\n",
    "    episode_reward, elapsed_steps = play_policy(env, policy)\n",
    "    episode_rewards.append(episode_reward)\n",
    "    logging.info('test episode %d: reward = %.2f, steps = %d',\n",
    "            episode, episode_reward, elapsed_steps)\n",
    "logging.info('average episode reward = %.2f ± %.2f',\n",
    "        np.mean(episode_rewards), np.std(episode_rewards))"
   ]
  },
  {
   "cell_type": "code",
   "execution_count": 24,
   "id": "4f08a98d",
   "metadata": {},
   "outputs": [],
   "source": [
    "env.close()"
   ]
  }
 ],
 "metadata": {
  "kernelspec": {
   "display_name": "Python 3 (ipykernel)",
   "language": "python",
   "name": "python3"
  },
  "language_info": {
   "codemirror_mode": {
    "name": "ipython",
    "version": 3
   },
   "file_extension": ".py",
   "mimetype": "text/x-python",
   "name": "python",
   "nbconvert_exporter": "python",
   "pygments_lexer": "ipython3",
   "version": "3.10.4"
  }
 },
 "nbformat": 4,
 "nbformat_minor": 5
}
